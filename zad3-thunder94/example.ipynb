{
 "cells": [
  {
   "cell_type": "markdown",
   "metadata": {},
   "source": [
    "# Information accuracy validator"
   ]
  },
  {
   "cell_type": "markdown",
   "metadata": {},
   "source": [
    "This program validates accuracy of the information provided as an argument. Information is any number of strings containing any characters. Program firstly downloads csv file containing names of fake websites. Then it performs google search, using provided phrase. The number of maximum hits can by changed by using optional -s parameter (default is 10). If the information appears on a website that is listed in csv, probability of fake news rises. As an output user receives probability of fake information."
   ]
  },
  {
   "cell_type": "code",
   "execution_count": null,
   "metadata": {
    "collapsed": false
   },
   "outputs": [],
   "source": [
    "# %load __init__.py\n",
    "import argparse\n",
    "import csv\n",
    "import requests\n",
    "import sys\n",
    "from google import search\n",
    "from io import BytesIO\n",
    "from zipfile import ZipFile\n",
    "\n",
    "\n",
    "class InformationValidator:\n",
    "\n",
    "    def __init__(self):\n",
    "        self.all = 0\n",
    "        self.fake = 0\n",
    "\n",
    "    @staticmethod\n",
    "    def receive_zip():\n",
    "        response = requests.get('https://github.com/BigMcLargeHuge/opensources/zipball/master')\n",
    "        zipfile = ZipFile(BytesIO(response.content))\n",
    "        for path in zipfile.namelist():\n",
    "            if 'sources.csv' in path:\n",
    "                zipfile.extractall()\n",
    "                return path\n",
    "\n",
    "    def validate_information(self, path, information, searches):\n",
    "        query = ''\n",
    "        with open(path, 'r') as f:\n",
    "            reader = csv.reader(f)\n",
    "            for word in information:\n",
    "                query = query + word + ' '\n",
    "            query = query[:-1]\n",
    "            for url in search(query, stop=searches):\n",
    "                self.all += 1\n",
    "                for row in reader:\n",
    "                    if row[0] in url:\n",
    "                        self.fake += 1\n",
    "\n",
    "\n",
    "def main():\n",
    "\n",
    "    parser = argparse.ArgumentParser(description='Information accuracy analyzer. Provide information as argument.')\n",
    "    parser.add_argument('information', nargs='*', help='Information to check.')\n",
    "    parser.add_argument('-s', '--searches', type=int, default=10, help='Number of google searches')\n",
    "    args = parser.parse_args()\n",
    "    validator = InformationValidator()\n",
    "    try:\n",
    "        path = InformationValidator.receive_zip()\n",
    "    except Exception:\n",
    "        print('Error getting zip file')\n",
    "        sys.exit(1)\n",
    "    validator.validate_information(path, args.information, args.searches)\n",
    "    print(\"Probability of fake news: \", validator.fake/validator.all*100, \"%\")\n",
    "\n",
    "if __name__ == '__main__':\n",
    "    main()\n"
   ]
  },
  {
   "cell_type": "code",
   "execution_count": 1,
   "metadata": {
    "collapsed": false
   },
   "outputs": [
    {
     "name": "stdout",
     "output_type": "stream",
     "text": [
      "Probability of fake news:  20.0 %\n"
     ]
    }
   ],
   "source": [
    "%run __init__.py Trump tweet-attacks Muslim mayor of London for being soft on terror"
   ]
  }
 ],
 "metadata": {
  "kernelspec": {
   "display_name": "Python 3",
   "language": "python",
   "name": "python3"
  },
  "language_info": {
   "codemirror_mode": {
    "name": "ipython",
    "version": 3
   },
   "file_extension": ".py",
   "mimetype": "text/x-python",
   "name": "python",
   "nbconvert_exporter": "python",
   "pygments_lexer": "ipython3",
   "version": "3.6.0"
  }
 },
 "nbformat": 4,
 "nbformat_minor": 2
}
